{
 "cells": [
  {
   "cell_type": "markdown",
   "metadata": {},
   "source": [
    "# Parse Garmin data\n",
    "In this notebook there is the final method to parse my Garmin data, after [many attempts](https://github.com/francescolosterzo/parse-garmin-heartrate/blob/master/TestFitparse.ipynb). I will refer to this notebook several times.\n",
    "\n",
    "The focus will be on heart rate data."
   ]
  },
  {
   "cell_type": "code",
   "execution_count": 26,
   "metadata": {},
   "outputs": [],
   "source": [
    "import fitparse\n",
    "import sys\n",
    "import datetime\n",
    "import dateutil\n",
    "import pytz\n",
    "\n",
    "import pandas as pd\n",
    "import numpy as np\n",
    "\n",
    "import matplotlib.pyplot as plt\n",
    "%matplotlib inline"
   ]
  },
  {
   "cell_type": "code",
   "execution_count": 4,
   "metadata": {},
   "outputs": [],
   "source": [
    "def getUniqueValues(lst):\n",
    "    return list( set(lst) )"
   ]
  },
  {
   "cell_type": "markdown",
   "metadata": {},
   "source": [
    "## Load data\n",
    "Here load the sample data. The folder downloaded from Garmin Connect has several files, after looking a bit into the files, I got the right one :)"
   ]
  },
  {
   "cell_type": "code",
   "execution_count": 2,
   "metadata": {},
   "outputs": [],
   "source": [
    "input_file = '/Users/francesco/PersonalProjects/data/garmin/2019-05-01/33802246536.fit'\n",
    "fitfile = fitparse.FitFile(input_file, data_processor=fitparse.StandardUnitsDataProcessor())"
   ]
  },
  {
   "cell_type": "code",
   "execution_count": 8,
   "metadata": {},
   "outputs": [],
   "source": [
    "message_type = []\n",
    "message_name = []\n",
    "\n",
    "for record in fitfile.get_messages():\n",
    "    \n",
    "    message_type.append(record.type)\n",
    "    message_name.append(record.name)"
   ]
  },
  {
   "cell_type": "code",
   "execution_count": 10,
   "metadata": {},
   "outputs": [
    {
     "name": "stdout",
     "output_type": "stream",
     "text": [
      "# of message types: 1\n",
      " --> ['data']\n"
     ]
    }
   ],
   "source": [
    "print('# of message types:', len(getUniqueValues(message_type)))\n",
    "print(' -->', getUniqueValues(message_type))"
   ]
  },
  {
   "cell_type": "code",
   "execution_count": 11,
   "metadata": {},
   "outputs": [
    {
     "name": "stdout",
     "output_type": "stream",
     "text": [
      "# of message names: 11\n",
      " --> ['unknown_233', 'ohr_settings', 'monitoring', 'software', 'unknown_24', 'stress_level', 'unknown_211', 'monitoring_info', 'event', 'device_info', 'file_id']\n"
     ]
    }
   ],
   "source": [
    "print('# of message names:', len(getUniqueValues(message_name)))\n",
    "print(' -->', getUniqueValues(message_name))"
   ]
  },
  {
   "cell_type": "markdown",
   "metadata": {},
   "source": [
    "The `message` objects are all of type `'data'`, and there are 11 different names available.\n",
    "Of all the `messages`, we are interested in those named `'monitoring'`."
   ]
  },
  {
   "cell_type": "markdown",
   "metadata": {},
   "source": [
    "The heart rate data are contained in `'monitoring'` message like this one:\n",
    "```\n",
    "name: monitoring\n",
    "fields:[\n",
    "{'name': 'timestamp_16', 'def_num': 26, 'base_type': 'uint16', 'type': 'uint16', 'units': 's', 'value': 31132, 'raw_value': 31132},\n",
    "{'name': 'heart_rate', 'def_num': 27, 'base_type': 'uint8', 'type': 'uint8', 'units': 'bpm', 'value': 72, 'raw_value': 72}]\n",
    "```\n",
    "They indeed contain the heart rate value and a `timestamp_16`, which is a 16-bit timestamp. Looking at the [documentation](https://www.thisisant.com/forum/viewthread/6374/), the `timestamp_16` should be used together with the 32 `timestamp` preceeding it, contained in another `'monitoring'` message like this:\n",
    "```\n",
    "name monitoring\n",
    "fields [\n",
    "{'name': 'timestamp', 'def_num': 253, 'base_type': 'uint32', 'type': 'date_time', 'units': None, 'value': datetime.datetime(2019, 4, 30, 22, 0), 'raw_value': 925596000},\n",
    "{'name': 'activity_type', 'def_num': 5, 'base_type': 'enum', 'type': 'activity_type', 'units': None, 'value': 'sedentary', 'raw_value': 8},\n",
    "{'name': 'intensity', 'def_num': 28, 'base_type': 'uint8', 'type': 'uint8', 'units': None, 'value': 0, 'raw_value': 0},\n",
    "{'name': 'current_activity_type_intensity', 'def_num': 24, 'base_type': 'byte', 'type': 'byte', 'units': None, 'value': (8,), 'raw_value': (8,)}]\n",
    "```\n",
    "\n",
    "The way `timestamp` and `timestamp_16` should be combined is not straightforward."
   ]
  },
  {
   "cell_type": "code",
   "execution_count": 33,
   "metadata": {},
   "outputs": [],
   "source": [
    "def getActualTimestamp(ts, ts16, isRaw=True):\n",
    "    '''\n",
    "    combine ts and ts_16 to get the actual timestamp\n",
    "    '''\n",
    "    \n",
    "    tz = pytz.timezone('UTC')\n",
    "    utc_offset = int(datetime.datetime.timestamp(datetime.datetime(1989,12,31,tzinfo=tz)))\n",
    "    \n",
    "    out = ts\n",
    "    if not isRaw:\n",
    "        out =- utc_offset\n",
    "    \n",
    "    out += ( ts16 - ( out & 0xFFFF ) ) & 0xFFFF\n",
    "\n",
    "    return out + utc_offset"
   ]
  },
  {
   "cell_type": "code",
   "execution_count": 45,
   "metadata": {},
   "outputs": [],
   "source": [
    "ts = getActualTimestamp(925596000, 31132)"
   ]
  },
  {
   "cell_type": "code",
   "execution_count": 46,
   "metadata": {},
   "outputs": [
    {
     "data": {
      "text/plain": [
       "datetime.datetime(2019, 5, 1, 0, 1)"
      ]
     },
     "execution_count": 46,
     "metadata": {},
     "output_type": "execute_result"
    }
   ],
   "source": [
    "#datetime.datetime.fromtimestamp(ts)"
   ]
  },
  {
   "cell_type": "code",
   "execution_count": 47,
   "metadata": {},
   "outputs": [],
   "source": [
    "ts = 0\n",
    "ts16 = 0\n",
    "\n",
    "tsList = []\n",
    "hrList = []\n",
    "\n",
    "for record in fitfile.get_messages():\n",
    "    \n",
    "    if record.name != 'monitoring': continue\n",
    "    \n",
    "    this_record = record.as_dict()\n",
    "    \n",
    "    hr = None\n",
    "    for field in this_record['fields']:\n",
    "        \n",
    "        # get the timestamp\n",
    "        if field['name'] == 'timestamp':\n",
    "            ts = field['raw_value']\n",
    "        \n",
    "        # if the monitoring object is about heart rate, take timestamp_16 and heart_rate\n",
    "        if field['name'] == 'timestamp_16':\n",
    "            ts16 = field['raw_value']\n",
    "        \n",
    "        if field['name'] == 'heart_rate':\n",
    "            hr = field['raw_value']\n",
    "    ##\n",
    "    if not hr is None:\n",
    "        #print(ts, ts16)\n",
    "        hrList.append(hr)\n",
    "        tsList.append(getActualTimestamp(ts, ts16))     "
   ]
  },
  {
   "cell_type": "markdown",
   "metadata": {},
   "source": [
    "Dump data into a dataframe"
   ]
  },
  {
   "cell_type": "code",
   "execution_count": 64,
   "metadata": {},
   "outputs": [],
   "source": [
    "df = pd.DataFrame({\n",
    "    'utc_timestamp': tsList,\n",
    "    'heartrate': hrList\n",
    "})"
   ]
  },
  {
   "cell_type": "code",
   "execution_count": 65,
   "metadata": {},
   "outputs": [],
   "source": [
    "df['datetime'] = pd.to_datetime(df['utc_timestamp'], unit='s')"
   ]
  },
  {
   "cell_type": "code",
   "execution_count": 66,
   "metadata": {},
   "outputs": [],
   "source": [
    "convert_tz = lambda x: x.to_pydatetime().replace(tzinfo=pytz.utc).astimezone(pytz.timezone('Europe/Zurich'))"
   ]
  },
  {
   "cell_type": "code",
   "execution_count": 67,
   "metadata": {},
   "outputs": [],
   "source": [
    "df['datetime'] = df['datetime'].map(convert_tz).apply(lambda x: x.tz_localize(None))"
   ]
  },
  {
   "cell_type": "code",
   "execution_count": 68,
   "metadata": {},
   "outputs": [
    {
     "data": {
      "text/plain": [
       "[<matplotlib.lines.Line2D at 0x11376c6a0>]"
      ]
     },
     "execution_count": 68,
     "metadata": {},
     "output_type": "execute_result"
    },
    {
     "data": {
      "image/png": "[encoded data removed]",
      "text/plain": [
       "<Figure size 1440x360 with 1 Axes>"
      ]
     },
     "metadata": {},
     "output_type": "display_data"
    }
   ],
   "source": [
    "plt.figure(figsize=(20,5))\n",
    "\n",
    "plt.plot( df.datetime, df.heartrate, marker='+' )"
   ]
  },
  {
   "cell_type": "markdown",
   "metadata": {},
   "source": [
    "Yesss!!!!"
   ]
  },
  {
   "cell_type": "code",
   "execution_count": null,
   "metadata": {},
   "outputs": [],
   "source": []
  }
 ],
 "metadata": {
  "kernelspec": {
   "display_name": "fitnessdata",
   "language": "python",
   "name": "fitnessdata"
  },
  "language_info": {
   "codemirror_mode": {
    "name": "ipython",
    "version": 3
   },
   "file_extension": ".py",
   "mimetype": "text/x-python",
   "name": "python",
   "nbconvert_exporter": "python",
   "pygments_lexer": "ipython3",
   "version": "3.6.5"
  }
 },
 "nbformat": 4,
 "nbformat_minor": 2
}
